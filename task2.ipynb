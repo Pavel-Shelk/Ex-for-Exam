{
  "cells": [
    {
      "cell_type": "markdown",
      "metadata": {
        "id": "view-in-github",
        "colab_type": "text"
      },
      "source": [
        "<a href=\"https://colab.research.google.com/github/Pavel-Shelk/Test/blob/main/task2.ipynb\" target=\"_parent\"><img src=\"https://colab.research.google.com/assets/colab-badge.svg\" alt=\"Open In Colab\"/></a>"
      ]
    },
    {
      "cell_type": "code",
      "execution_count": 1,
      "id": "9196611b",
      "metadata": {
        "scrolled": false,
        "colab": {
          "base_uri": "https://localhost:8080/"
        },
        "id": "9196611b",
        "outputId": "a4994de6-ecc5-4085-a543-c1f9d62d3fa5"
      },
      "outputs": [
        {
          "output_type": "stream",
          "name": "stdout",
          "text": [
            "1. Количество нулей в конце числа n равно 15\n",
            "2. Массив arr_1 состоит исключительно из одного и того же значения: Да\n",
            "2. Массив arr_2 состоит исключительно из одного и того же значения: Нет\n",
            "2. Массив arr_3 состоит исключительно из одного и того же значения: Да\n",
            "3. Список, содержащий только неуникальные значения из входного списка list_1, умноженные на 5: []\n",
            "3. Список, содержащий только неуникальные значения из входного списка list_2, умноженные на 5: []\n"
          ]
        }
      ],
      "source": [
        "\n",
        "# Блок 1\n",
        "\n",
        "#1. Найти количество нулей в конце входного числа.\n",
        "n=(10010010001000100000)\n",
        "\n",
        "print('1. Количество нулей в конце числа n равно', str(n).count('0'))\n",
        "\n",
        "\n",
        "#2. Проверить состоит ли входной массив исключительного из одного и того же значения. \n",
        "arr_1 = [1,2,5,1,1,4,1]\n",
        "arr_2 = [1,1,1,1,1]\n",
        "arr_3 = [13,2,5,9,1,6,8,1]\n",
        "\n",
        "if len(arr_1) == len(set(arr_1)):\n",
        "    print('2. Массив arr_1 состоит исключительно из одного и того же значения: Нет')\n",
        "else:\n",
        "    print('2. Массив arr_1 состоит исключительно из одного и того же значения: Да')\n",
        "if len(arr_2) == len(set(arr_2)):\n",
        "    print('2. Массив arr_2 состоит исключительно из одного и того же значения: Да')\n",
        "else:\n",
        "    print('2. Массив arr_2 состоит исключительно из одного и того же значения: Нет')\n",
        "if len(arr_3) == len(set(arr_3)):\n",
        "    print('2. Массив arr_3 состоит исключительно из одного и того же значения: Нет')\n",
        "else:\n",
        "    print('2. Массив arr_3 состоит исключительно из одного и того же значения: Да')\n",
        "    \n",
        "    \n",
        "#3. Даны непустые списки. Необходимо вернуть списки, содержащие только неуникальные значения из входных списков, предварительно умноженные на 5. Порядок не должен меняться.\n",
        "list_1 = [66.25, 333, -1, 333, 1, 1234.5, 333]\n",
        "list_2 = ['You', 'you', 'for', 'then', 'Then', 'want', 'up', 'etc', 'etC', 355, 'yes', 'oh no', 'and you', 'oh  no']\n",
        "\n",
        "unique_list_1 = list(set(list_1))\n",
        "unique_list_2 = list(set(list_2))\n",
        "\n",
        "non_unique_list_1 = []\n",
        "non_unique_list_2 = []\n",
        "\n",
        "for i in list_1:\n",
        "    if i not in unique_list_1:\n",
        "        non_unique_list_1.append(i*5)\n",
        "for i in list_2:\n",
        "    if i not in unique_list_2:\n",
        "        non_unique_list_2.append(i*5)\n",
        "\n",
        "print('3. Список, содержащий только неуникальные значения из входного списка list_1, умноженные на 5:', non_unique_list_1)\n",
        "print('3. Список, содержащий только неуникальные значения из входного списка list_2, умноженные на 5:', non_unique_list_2)\n",
        "\n",
        "\n"
      ]
    },
    {
      "cell_type": "markdown",
      "id": "f9cdfe94",
      "metadata": {
        "id": "f9cdfe94"
      },
      "source": [
        "## 4"
      ]
    },
    {
      "cell_type": "code",
      "execution_count": 2,
      "id": "b5c83203",
      "metadata": {
        "colab": {
          "base_uri": "https://localhost:8080/"
        },
        "id": "b5c83203",
        "outputId": "86f86bf5-ceeb-405b-961c-53e6f617b52d"
      },
      "outputs": [
        {
          "output_type": "stream",
          "name": "stdout",
          "text": [
            "Введите число: 10\n",
            "Введите число: 15\n",
            "Введите число: 16\n",
            "Введите число: 17\n",
            "Введите число: 18\n",
            "Введите число: 19\n",
            "Введите число: 20\n",
            "Введите число: 21\n",
            "Введите число: 22\n",
            "Введите число: 23\n",
            "4. Сумма положительных чисел равна 181\n",
            "4. Разность отрицательных чисел равна 0\n"
          ]
        }
      ],
      "source": [
        "4#4. Написать код программы, которая считывает десять чисел и подсчитывает сумму положительных чисел и разность отрицательных\n",
        "\n",
        "sum_pos = 0\n",
        "diff_neg = 0\n",
        "\n",
        "for i in range(10):\n",
        "    num = int(input('Введите число: '))\n",
        "    if num > 0:\n",
        "        sum_pos += num\n",
        "    elif num < 0:\n",
        "        diff_neg -= num\n",
        "\n",
        "print('4. Сумма положительных чисел равна', sum_pos)\n",
        "print('4. Разность отрицательных чисел равна', diff_neg)\n"
      ]
    },
    {
      "cell_type": "markdown",
      "id": "49864479",
      "metadata": {
        "id": "49864479"
      },
      "source": [
        "## 5"
      ]
    },
    {
      "cell_type": "code",
      "execution_count": 3,
      "id": "85a302e2",
      "metadata": {
        "colab": {
          "base_uri": "https://localhost:8080/"
        },
        "id": "85a302e2",
        "outputId": "c82a6792-4d91-4c20-cd40-fd91e1667c99"
      },
      "outputs": [
        {
          "output_type": "stream",
          "name": "stdout",
          "text": [
            "Введите число: 5\n",
            "Введите число: 5\n",
            "Введите число: 5\n",
            "Введите число: 5\n",
            "Введите число: 5\n",
            "5. Максимальное число: 5\n",
            "5. Минимальное число: 5\n",
            "5. Произведение трёх оставшихся чисел: 625\n"
          ]
        }
      ],
      "source": [
        "5\n",
        "#5. Считать с ввода 5 чисел и вывести на отдельных строках сначала максимальное число, потом минимальное, а в третьей строке вывести произведение трёх оставшихся чисел\n",
        "from functools import reduce\n",
        "nums = []\n",
        "\n",
        "for i in range(5):\n",
        "    nums.append(int(input('Введите число: ')))\n",
        "\n",
        "nums.remove(max(nums))\n",
        "\n",
        "print('5. Максимальное число:', max(nums))\n",
        "print('5. Минимальное число:', min(nums))\n",
        "print('5. Произведение трёх оставшихся чисел:', reduce(lambda x, y: x * y, nums))\n",
        "\n"
      ]
    },
    {
      "cell_type": "markdown",
      "id": "59e8364f",
      "metadata": {
        "id": "59e8364f"
      },
      "source": [
        "### 6"
      ]
    },
    {
      "cell_type": "code",
      "execution_count": 4,
      "id": "78d76d27",
      "metadata": {
        "colab": {
          "base_uri": "https://localhost:8080/"
        },
        "id": "78d76d27",
        "outputId": "72d91d0e-6ad4-4520-a534-5dcc698c6543"
      },
      "outputs": [
        {
          "output_type": "stream",
          "name": "stdout",
          "text": [
            "6. Сложность пароля первой строки недостаточна.\n",
            "6. Сложность пароля второй строки недостаточна.\n",
            "6. Сложность пароля третьей строки недостаточна.\n",
            "6. Сложность пароля четвёртой строки недостаточна.\n",
            "6. Сложность пароля пятой строки недостаточна.\n"
          ]
        }
      ],
      "source": [
        "#6. Проверить сложность пароля во входной строке. Пароль должен содержать, как минимум, одну букву в нижнем регистре, одну букву в верхнем регистре, одну цифру и не содержит никаких других символов. Минимальная длина пароля 20 символов.\n",
        "password_1 = \"q5465645678weDFKL89485rty\"\n",
        "password_2 = \"q5fvdjnkvnk__!9485rty\"\n",
        "password_3 = \"q546f2vjkrty\"\n",
        "password_4 = \"q546f2svgvlvl___fvdvdDvjkrty\"\n",
        "password_5 = \"q546f2svgvlvlvffvdvdvjkrty\"\n",
        "\n",
        "if len(password_1) >= 20 and any(c.islower() for c in password_1) and any(c.isupper() for c in password_1) and any(c.isdigit() for c in password_1) and not any(c.isalnum() for c in password_1):\n",
        "    print('6. Сложность пароля первой строки достаточна.')\n",
        "else:\n",
        "    print('6. Сложность пароля первой строки недостаточна.')\n",
        "\n",
        "if len(password_2) >= 20 and any(c.islower() for c in password_2) and any(c.isupper() for c in password_2) and any(c.isdigit() for c in password_2) and not any(c.isalnum() for c in password_2):\n",
        "    print('6. Сложность пароля второй строки достаточна.')\n",
        "else:\n",
        "    print('6. Сложность пароля второй строки недостаточна.')\n",
        "\n",
        "if len(password_3) >= 20 and any(c.islower() for c in password_3) and any(c.isupper() for c in password_3) and any(c.isdigit() for c in password_3) and not any(c.isalnum() for c in password_3):\n",
        "    print('6. Сложность пароля третьей строки достаточна.')\n",
        "else:\n",
        "    print('6. Сложность пароля третьей строки недостаточна.')\n",
        "\n",
        "if len(password_4) >= 20 and any(c.islower() for c in password_4) and any(c.isupper() for c in password_4) and any(c.isdigit() for c in password_4) and not any(c.isalnum() for c in password_4):\n",
        "    print('6. Сложность пароля четвёртой строки достаточна.')\n",
        "else:\n",
        "    print('6. Сложность пароля четвёртой строки недостаточна.')\n",
        "\n",
        "if len(password_5) >= 20 and any(c.islower() for c in password_5) and any(c.isupper() for c in password_5) and any(c.isdigit() for c in password_5) and not any(c.isalnum() for c in password_5):\n",
        "    print('6. Сложность пароля пятой строки достаточна.')\n",
        "else:\n",
        "    print('6. Сложность пароля пятой строки недостаточна.')\n",
        "\n"
      ]
    },
    {
      "cell_type": "markdown",
      "id": "a2864daf",
      "metadata": {
        "id": "a2864daf"
      },
      "source": [
        "## Блок 2"
      ]
    },
    {
      "cell_type": "markdown",
      "id": "4aefbf56",
      "metadata": {
        "id": "4aefbf56"
      },
      "source": [
        "## Задание 1"
      ]
    },
    {
      "cell_type": "code",
      "execution_count": 5,
      "id": "c8c4c5b0",
      "metadata": {
        "colab": {
          "base_uri": "https://localhost:8080/"
        },
        "id": "c8c4c5b0",
        "outputId": "63908095-e137-4a09-8546-571f1fec21d0"
      },
      "outputs": [
        {
          "output_type": "stream",
          "name": "stdout",
          "text": [
            "Введите вес первой машины: 12\n",
            "Введите вес второй машины: 12\n",
            "Введите вес третьей машины: 13\n",
            "Первая машина относится к категории C.\n",
            "Вторая машина относится к категории C.\n",
            "Третья машина относится к категории C.\n"
          ]
        }
      ],
      "source": [
        "1# Задание 1\n",
        "weight1 = int(input('Введите вес первой машины: '))\n",
        "weight2 = int(input('Введите вес второй машины: '))\n",
        "weight3 = int(input('Введите вес третьей машины: '))\n",
        "\n",
        "if weight1 <= 3.5:\n",
        "    print('Первая машина относится к категории B.')\n",
        "else:\n",
        "    print('Первая машина относится к категории C.')\n",
        "\n",
        "if weight2 <= 3.5:\n",
        "    print('Вторая машина относится к категории B.')\n",
        "else:\n",
        "    print('Вторая машина относится к категории C.')\n",
        "\n",
        "if weight3 <= 3.5:\n",
        "    print('Третья машина относится к категории B.')\n",
        "else:\n",
        "    print('Третья машина относится к категории C.')\n",
        "\n"
      ]
    },
    {
      "cell_type": "markdown",
      "id": "bef9dc98",
      "metadata": {
        "id": "bef9dc98"
      },
      "source": [
        "## Задание 2"
      ]
    },
    {
      "cell_type": "code",
      "execution_count": 6,
      "id": "c90619e4",
      "metadata": {
        "scrolled": true,
        "colab": {
          "base_uri": "https://localhost:8080/"
        },
        "id": "c90619e4",
        "outputId": "d1650c09-d35b-466d-8cfd-d55642fe3c47"
      },
      "outputs": [
        {
          "output_type": "stream",
          "name": "stdout",
          "text": [
            "q5465###\n",
            "6456####\n",
            "78weDF##\n",
            "KL89####\n",
            "485rtyeg\n",
            "efw43###\n"
          ]
        }
      ],
      "source": [
        "# Задание 2\n",
        "list_3 = [\"q5465\", \"6456\", \"78weDF\", \"KL89\", \"485rtyeg\", \"efw43\"]\n",
        "\n",
        "max_len = 0\n",
        "for i in list_3:\n",
        "    if len(i) > max_len:\n",
        "        max_len = len(i)\n",
        "\n",
        "for i in list_3:\n",
        "    print(i + '#' * (max_len - len(i)))\n",
        "\n"
      ]
    },
    {
      "cell_type": "markdown",
      "id": "8d9bc014",
      "metadata": {
        "id": "8d9bc014"
      },
      "source": [
        "## Задание 3"
      ]
    },
    {
      "cell_type": "code",
      "execution_count": 7,
      "id": "b26e4e92",
      "metadata": {
        "scrolled": true,
        "colab": {
          "base_uri": "https://localhost:8080/"
        },
        "id": "b26e4e92",
        "outputId": "d3c5d2dd-df6f-4cfe-d7ab-878c6017e6c3"
      },
      "outputs": [
        {
          "output_type": "stream",
          "name": "stdout",
          "text": [
            "Введите размеры ящика: K = 5\n",
            "M = 5\n",
            "N = 6\n",
            "Введите размеры двери: X = 5\n",
            "Z = 5\n",
            "Ящик не пройдёт в дверь.\n"
          ]
        }
      ],
      "source": [
        "\n",
        "# Задание 3\n",
        "K = int(input('Введите размеры ящика: K = '))\n",
        "M = int(input('M = '))\n",
        "N = int(input('N = '))\n",
        "X = int(input('Введите размеры двери: X = '))\n",
        "Z = int(input('Z = '))\n",
        "\n",
        "if K <= X and M <= Z and N <= Z:\n",
        "    print('Ящик пройдёт в дверь.')\n",
        "else:\n",
        "    print('Ящик не пройдёт в дверь.')\n",
        "\n",
        "\n"
      ]
    },
    {
      "cell_type": "markdown",
      "id": "f48e7845",
      "metadata": {
        "id": "f48e7845"
      },
      "source": [
        "## Задание 4"
      ]
    },
    {
      "cell_type": "code",
      "execution_count": 8,
      "id": "2c0b2b36",
      "metadata": {
        "colab": {
          "base_uri": "https://localhost:8080/"
        },
        "id": "2c0b2b36",
        "outputId": "676dd3a3-854b-4b35-e712-8d66698bb57b"
      },
      "outputs": [
        {
          "output_type": "stream",
          "name": "stdout",
          "text": [
            "Введите название страны: Россия\n",
            "Введите название города: Москва\n",
            "Самым красивым городом в стране Россия является Москва.\n"
          ]
        }
      ],
      "source": [
        "# Задание 4\n",
        "country = input('Введите название страны: ')\n",
        "city = input('Введите название города: ')\n",
        "print(f'Самым красивым городом в стране {country} является {city}.')\n",
        "\n"
      ]
    },
    {
      "cell_type": "markdown",
      "id": "3bd04ae9",
      "metadata": {
        "id": "3bd04ae9"
      },
      "source": [
        "## Задание 5"
      ]
    },
    {
      "cell_type": "code",
      "execution_count": 9,
      "id": "d72692a3",
      "metadata": {
        "colab": {
          "base_uri": "https://localhost:8080/"
        },
        "id": "d72692a3",
        "outputId": "1a1996d0-c8dc-4712-f957-d70fde50f2bc"
      },
      "outputs": [
        {
          "output_type": "stream",
          "name": "stdout",
          "text": [
            "26\n",
            "39\n",
            "52\n",
            "65\n",
            "78\n",
            "91\n",
            "104\n",
            "117\n",
            "130\n",
            "143\n",
            "156\n",
            "169\n",
            "182\n"
          ]
        }
      ],
      "source": [
        "\n",
        "# Задание 5\n",
        "for i in range(18, 194):\n",
        "    if i % 13 == 0:\n",
        "        print(i)\n"
      ]
    },
    {
      "cell_type": "markdown",
      "id": "6a52a74a",
      "metadata": {
        "id": "6a52a74a"
      },
      "source": [
        "## Задание 6"
      ]
    },
    {
      "cell_type": "code",
      "execution_count": 10,
      "id": "288996ac",
      "metadata": {
        "scrolled": true,
        "colab": {
          "base_uri": "https://localhost:8080/"
        },
        "id": "288996ac",
        "outputId": "a0b1cbeb-2de6-4e30-92c6-b94759277415"
      },
      "outputs": [
        {
          "output_type": "stream",
          "name": "stdout",
          "text": [
            "Введите число: 15\n",
            "Введите число: 16\n",
            "Введите число: 17\n",
            "Введите число: 8\n",
            "Введите число: 5\n",
            "Введите число: 4\n",
            "Введите число: 3\n",
            "Введите число: 2\n",
            "Введите число: 1\n",
            "Введите число: 0\n",
            "Сумма модулей десяти чисел: 71\n"
          ]
        }
      ],
      "source": [
        "1# Задание 6\n",
        "total = 0\n",
        "for i in range(10):\n",
        "    num = int(input('Введите число: '))\n",
        "    total += abs(num)\n",
        "print(f'Сумма модулей десяти чисел: {total}')"
      ]
    },
    {
      "cell_type": "markdown",
      "id": "00baf52c",
      "metadata": {
        "id": "00baf52c"
      },
      "source": [
        "## Regex"
      ]
    },
    {
      "cell_type": "code",
      "execution_count": 11,
      "id": "e333829d",
      "metadata": {
        "colab": {
          "base_uri": "https://localhost:8080/"
        },
        "id": "e333829d",
        "outputId": "3091fa07-8b4b-4300-a9b2-e16b29264ccf"
      },
      "outputs": [
        {
          "output_type": "stream",
          "name": "stdout",
          "text": [
            "Вывод по заданию 1:\n",
            "                         col1 event_id   event_probability\n",
            "0  {'34': 0.9839372122311848}       34  0.9839372122311848\n",
            "1  {'77': 0.6724645988404411}       77  0.6724645988404411\n",
            "2  {'77': 0.6491011266207006}       77  0.6491011266207006\n",
            "3  {'77': 0.6123085784265466}       77  0.6123085784265466\n",
            "4                {'34': 0.87}       34                0.87\n",
            "5  {'77': 0.6225699652019304}       77  0.6225699652019304\n",
            "6   {'3': 0.5470808226524633}        3  0.5470808226524633\n",
            "7  {'77': 0.6233849004135044}       77  0.6233849004135044\n",
            "8  {'77': 0.7050888998743866}       77  0.7050888998743866\n",
            "9  {'52': 0.8945052223205372}       52  0.8945052223205372\n"
          ]
        }
      ],
      "source": [
        "\n",
        "\n",
        "# Задание 1\n",
        "\n",
        "import re\n",
        "import pandas as pd\n",
        "\n",
        "df=pd.DataFrame({'col1':[\"{'34': 0.9839372122311848}\",\n",
        "                         \"{'77': 0.6724645988404411}\",\n",
        "                         \"{'77': 0.6491011266207006}\",\n",
        "                         \"{'77': 0.6123085784265466}\",\n",
        "                         \"{'34': 0.87}\",\n",
        "                         \"{'77': 0.6225699652019304}\",\n",
        "                         \"{'3': 0.5470808226524633}\",\n",
        "                         \"{'77': 0.6233849004135044}\",\n",
        "                         \"{'77': 0.7050888998743866}\",\n",
        "                         \"{'52': 0.8945052223205372}\"]})\n",
        "\n",
        "# создаем две новые колонки\n",
        "df['event_id'] = ''\n",
        "df['event_probability'] = ''\n",
        "\n",
        "# используем регулярное выражение для извлечения данных\n",
        "for index, row in df.iterrows():\n",
        "    # с помощью регулярного выражения извлекаем идентификатор события\n",
        "    event_id = re.findall(r\"\\d+\", row['col1'])\n",
        "    # извлекаем вероятность\n",
        "    event_probability = re.findall(r\"(?<=: ).*?(?=})\", row['col1'])\n",
        "    # заполняем две новые колонки\n",
        "    df.at[index, 'event_id'] = event_id[0]\n",
        "    df.at[index, 'event_probability'] = event_probability[0]\n",
        "\n",
        "print('Вывод по заданию 1:')\n",
        "print(df)\n",
        "\n"
      ]
    },
    {
      "cell_type": "code",
      "execution_count": 12,
      "id": "9726dcab",
      "metadata": {
        "colab": {
          "base_uri": "https://localhost:8080/"
        },
        "id": "9726dcab",
        "outputId": "3288f150-790c-4041-92ba-d374bcb61c3c"
      },
      "outputs": [
        {
          "output_type": "stream",
          "name": "stdout",
          "text": [
            "Вывод по заданию 2:\n",
            "fdgvdflvjjkfvgkkv      riwurowfjsfi  8458393942EOJOLIWJEF 29408245__ _     kl \n"
          ]
        }
      ],
      "source": [
        "\n",
        "# Задание 2\n",
        "\n",
        "s = \"fdgvdflvjjkfvgkkv!#@#$)riwurowfjsfi(@8458393942EOJOLIWJEF-29408245__+_!//.,kl|\"\n",
        "\n",
        "# используем регулярное выражение для замены спецсимволов на пробелы\n",
        "s = re.sub(r'[^\\w\\s]', ' ', s)\n",
        "\n",
        "print('Вывод по заданию 2:')\n",
        "print(s)\n"
      ]
    },
    {
      "cell_type": "code",
      "execution_count": 13,
      "id": "ae95009e",
      "metadata": {
        "colab": {
          "base_uri": "https://localhost:8080/"
        },
        "id": "ae95009e",
        "outputId": "dfb76020-5b49-45a0-c1e6-7f24424befed"
      },
      "outputs": [
        {
          "output_type": "stream",
          "name": "stdout",
          "text": [
            "Вывод по заданию 3:\n",
            "dfjfo  водподмо kdfjgkd   rfj9 wefrk   323r 4rtg\n"
          ]
        }
      ],
      "source": [
        "\n",
        "\n",
        "# Задание 3\n",
        "\n",
        "s='dfjfo алв водподмо kdfjgkd fd 32f rfj9 wefrk df4 rlf 323r 4rtg'\n",
        "\n",
        "# используем регулярное выражение для удаления слов, у которых длина меньше 4 символов\n",
        "s = re.sub(r'\\b\\w{1,3}\\b', '', s)\n",
        "\n",
        "print('Вывод по заданию 3:')\n",
        "print(s)"
      ]
    },
    {
      "cell_type": "code",
      "execution_count": null,
      "id": "af303641",
      "metadata": {
        "id": "af303641"
      },
      "outputs": [],
      "source": []
    }
  ],
  "metadata": {
    "kernelspec": {
      "display_name": "Python 3 (ipykernel)",
      "language": "python",
      "name": "python3"
    },
    "language_info": {
      "codemirror_mode": {
        "name": "ipython",
        "version": 3
      },
      "file_extension": ".py",
      "mimetype": "text/x-python",
      "name": "python",
      "nbconvert_exporter": "python",
      "pygments_lexer": "ipython3",
      "version": "3.10.8"
    },
    "colab": {
      "provenance": [],
      "include_colab_link": true
    }
  },
  "nbformat": 4,
  "nbformat_minor": 5
}