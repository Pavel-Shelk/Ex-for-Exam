{
  "cells": [
    {
      "cell_type": "markdown",
      "metadata": {
        "id": "view-in-github",
        "colab_type": "text"
      },
      "source": [
        "<a href=\"https://colab.research.google.com/github/Pavel-Shelk/Ex-for-Exam/blob/main/%D0%98%D1%81%D0%BF%D1%80%D0%B0%D0%B2%D0%BB%D0%B5%D0%BD%D0%B8%D1%8F.ipynb\" target=\"_parent\"><img src=\"https://colab.research.google.com/assets/colab-badge.svg\" alt=\"Open In Colab\"/></a>"
      ]
    },
    {
      "cell_type": "markdown",
      "id": "64527322",
      "metadata": {
        "id": "64527322"
      },
      "source": [
        "### Блок 1 \n",
        "\n",
        "1."
      ]
    },
    {
      "cell_type": "code",
      "execution_count": null,
      "id": "126136d7",
      "metadata": {
        "colab": {
          "base_uri": "https://localhost:8080/"
        },
        "id": "126136d7",
        "outputId": "17143cd7-7c28-4eaf-86d9-8e0b83dee611"
      },
      "outputs": [
        {
          "output_type": "stream",
          "name": "stdout",
          "text": [
            "Количество нулей в конце входного числа: 5\n"
          ]
        }
      ],
      "source": [
        "# Определение количества нулей в конце входного числа\n",
        "\n",
        "# Определяем входное число\n",
        "n = 10010010001000100000\n",
        "\n",
        "# Определяем количество нулей\n",
        "k = 0\n",
        "while n > 0 and n % 10 == 0:\n",
        "    k += 1\n",
        "    n //= 10\n",
        "\n",
        "# Вывод результата\n",
        "print(\"Количество нулей в конце входного числа:\", k)"
      ]
    },
    {
      "cell_type": "markdown",
      "id": "9e30475a",
      "metadata": {
        "id": "9e30475a"
      },
      "source": [
        "### 2."
      ]
    },
    {
      "cell_type": "code",
      "execution_count": null,
      "id": "440db40f",
      "metadata": {
        "colab": {
          "base_uri": "https://localhost:8080/"
        },
        "id": "440db40f",
        "outputId": "3bdb9d3c-3aa5-4886-9b30-70387aea2e36"
      },
      "outputs": [
        {
          "output_type": "stream",
          "name": "stdout",
          "text": [
            "Массив arr_1 не состоит из одинаковых значений\n",
            "Массив arr_2 состоит из одинаковых значений\n",
            "Массив arr_3 не состоит из одинаковых значений\n"
          ]
        }
      ],
      "source": [
        "# Программа на Python для проверки входного массива на наличие одинаковых значений\n",
        "\n",
        "# Определим массивы для проверки\n",
        "arr_1 = [1,2,5,1,1,4,1]\n",
        "arr_2 = [1,1,1,1,1]\n",
        "arr_3 = [13,2,5,9,1,6,8,1]\n",
        "\n",
        "# Проверим первый массив\n",
        "for i in arr_1:\n",
        "    # Если все элементы равны первому элементу\n",
        "    if i == arr_1[0]:\n",
        "        # Проверяем следующий элемент\n",
        "        continue\n",
        "    else:\n",
        "        # Если найден хотя бы один неравный элемент, то массив не состоит из одинаковых значений\n",
        "        print('Массив arr_1 не состоит из одинаковых значений')\n",
        "        break\n",
        "# Если все элементы массива arr_1 равны, то выведем соответствующее сообщение\n",
        "else:\n",
        "    print('Массив arr_1 состоит из одинаковых значений')\n",
        "    \n",
        "# Аналогично проверим остальные массивы\n",
        "for i in arr_2:\n",
        "    if i == arr_2[0]:\n",
        "        continue\n",
        "    else:\n",
        "        print('Массив arr_2 не состоит из одинаковых значений')\n",
        "        break\n",
        "else:\n",
        "    print('Массив arr_2 состоит из одинаковых значений')\n",
        "\n",
        "for i in arr_3:\n",
        "    if i == arr_3[0]:\n",
        "        continue\n",
        "    else:\n",
        "        print('Массив arr_3 не состоит из одинаковых значений')\n",
        "        break\n",
        "else:\n",
        "    print('Массив arr_3 состоит из одинаковых значений')"
      ]
    },
    {
      "cell_type": "markdown",
      "id": "0498c0b5",
      "metadata": {
        "id": "0498c0b5"
      },
      "source": [
        "### 3"
      ]
    },
    {
      "cell_type": "code",
      "execution_count": null,
      "id": "9ccf6894",
      "metadata": {
        "colab": {
          "base_uri": "https://localhost:8080/"
        },
        "id": "9ccf6894",
        "outputId": "661e37fb-c57f-4f23-f14e-68dbfdc92aae"
      },
      "outputs": [
        {
          "output_type": "stream",
          "name": "stdout",
          "text": [
            "[1665, 1665, 1665, 'etcetcetcetcetc', 'etcetcetcetcetc', 'oh nooh nooh nooh nooh no', 'oh nooh nooh nooh nooh no']\n"
          ]
        }
      ],
      "source": [
        "list_1 = [66.25, 333, -1, 333, 1, 1234.5, 333]\n",
        "list_2 = ['You', 'you', 'for', 'then', 'Then', 'want', 'up', 'etc', 'etc', 355, 'yes', 'oh no', 'and you', 'oh no']\n",
        "\n",
        "list_3 = []\n",
        "\n",
        "for i in list_1:\n",
        "    if list_1.count(i) > 1:\n",
        "        list_3.append(i*5)\n",
        "\n",
        "for j in list_2:\n",
        "    if list_2.count(j) > 1:\n",
        "        list_3.append(j*5)\n",
        "\n",
        "print(list_3)"
      ]
    },
    {
      "cell_type": "markdown",
      "id": "072360fb",
      "metadata": {
        "id": "072360fb"
      },
      "source": [
        "## 5"
      ]
    },
    {
      "cell_type": "code",
      "execution_count": null,
      "id": "f82b8104",
      "metadata": {
        "colab": {
          "base_uri": "https://localhost:8080/"
        },
        "id": "f82b8104",
        "outputId": "da7ab6c4-dafb-47ab-854f-071ec5482360"
      },
      "outputs": [
        {
          "output_type": "stream",
          "name": "stdout",
          "text": [
            "Введите число:5\n",
            "Введите число:5\n",
            "Введите число:5\n",
            "Введите число:5\n",
            "Введите число:5\n",
            "5. Максимальное число = 5.0\n",
            "5. Минимальное число = 5.0\n",
            "5. Произведение трёх оставшихся чисел = 125.0\n"
          ]
        }
      ],
      "source": [
        "5\n",
        "5\n",
        "number = []\n",
        "\n",
        "for i in range(5):\n",
        "    number.append(float(input('Введите число:')))\n",
        "\n",
        "print('5. Максимальное число =', max(number))\n",
        "number.remove(max(number))\n",
        "\n",
        "print('5. Минимальное число =', min(number))\n",
        "number.remove(min(number))\n",
        "\n",
        "total = 1\n",
        "for count in range(3):\n",
        "    total *= number[count]\n",
        "print('5. Произведение трёх оставшихся чисел =', total)"
      ]
    },
    {
      "cell_type": "markdown",
      "id": "8eca2bcf",
      "metadata": {
        "id": "8eca2bcf"
      },
      "source": [
        "### 6"
      ]
    },
    {
      "cell_type": "code",
      "execution_count": null,
      "id": "39ec9caa",
      "metadata": {
        "colab": {
          "base_uri": "https://localhost:8080/"
        },
        "id": "39ec9caa",
        "outputId": "078cb149-760e-4b23-bc3f-b991d3808c30"
      },
      "outputs": [
        {
          "output_type": "stream",
          "name": "stdout",
          "text": [
            "Пароль корректен\n",
            "True\n",
            "Нет символов в верхнем регистре\n",
            "False\n",
            "Длина пароля меньше 20 символов\n",
            "False\n",
            "В пароле присутствуют недопустимые символы\n",
            "False\n",
            "Нет символов в верхнем регистре\n",
            "False\n"
          ]
        }
      ],
      "source": [
        "password_1 = \"q5465645678weDFKL89485rty\"\n",
        "password_2 = \"q5fvdjnkvnk__!9485rty\"\n",
        "password_3 = \"q546f2vjkrty\"\n",
        "password_4 = \"q546f2svgvlvl___fvdvdDvjkrty\"\n",
        "password_5 = \"q546f2svgvlvlvffvdvdvjkrty\"\n",
        "\n",
        "def check_password_complexity(password):\n",
        "  if len(password) < 20:\n",
        "    print(\"Длина пароля меньше 20 символов\")\n",
        "    return False\n",
        "  \n",
        "  if not any(i.islower() for i in password):\n",
        "    print(\"Нет символов в нижнем регистре\")\n",
        "    return False\n",
        "  \n",
        "  if not any(i.isupper() for i in password):\n",
        "    print(\"Нет символов в верхнем регистре\")\n",
        "    return False\n",
        "  \n",
        "  if not any(i.isdigit() for i in password):\n",
        "    print(\"Нет цифр\")\n",
        "    return False\n",
        "  \n",
        "  if any(i for i in password if not i.isalnum()):\n",
        "    print(\"В пароле присутствуют недопустимые символы\")\n",
        "    return False\n",
        "  \n",
        "  print(\"Пароль корректен\")\n",
        "  return True\n",
        "\n",
        "print(check_password_complexity(password_1))\n",
        "print(check_password_complexity(password_2))\n",
        "print(check_password_complexity(password_3))\n",
        "print(check_password_complexity(password_4))\n",
        "print(check_password_complexity(password_5))"
      ]
    },
    {
      "cell_type": "code",
      "execution_count": null,
      "id": "9cb1a73e",
      "metadata": {
        "id": "9cb1a73e"
      },
      "outputs": [],
      "source": []
    }
  ],
  "metadata": {
    "kernelspec": {
      "display_name": "Python 3 (ipykernel)",
      "language": "python",
      "name": "python3"
    },
    "language_info": {
      "codemirror_mode": {
        "name": "ipython",
        "version": 3
      },
      "file_extension": ".py",
      "mimetype": "text/x-python",
      "name": "python",
      "nbconvert_exporter": "python",
      "pygments_lexer": "ipython3",
      "version": "3.10.8"
    },
    "colab": {
      "provenance": [],
      "include_colab_link": true
    }
  },
  "nbformat": 4,
  "nbformat_minor": 5
}